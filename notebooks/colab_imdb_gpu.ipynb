{
  "nbformat": 4,
  "nbformat_minor": 0,
  "metadata": {
    "accelerator": "GPU",
    "colab": {
      "name": "XLNet-imdb-GPU.ipynb",
      "provenance": [],
      "collapsed_sections": [],
      "toc_visible": true,
      "include_colab_link": true
    },
    "kernelspec": {
      "display_name": "Python 3",
      "language": "python",
      "name": "python3"
    }
  },
  "cells": [
    {
      "cell_type": "markdown",
      "metadata": {
        "id": "view-in-github",
        "colab_type": "text"
      },
      "source": [
        "<a href=\"https://colab.research.google.com/github/agrudkow/xlnet/blob/master/notebooks/colab_imdb_gpu.ipynb\" target=\"_parent\"><img src=\"https://colab.research.google.com/assets/colab-badge.svg\" alt=\"Open In Colab\"/></a>"
      ]
    },
    {
      "cell_type": "markdown",
      "metadata": {
        "id": "fnOHnctkG6kW"
      },
      "source": [
        "# XLNet IMDB movie review classification project\n",
        "\n",
        "This notebook is for classifying the [imdb sentiment dataset](https://ai.stanford.edu/~amaas/data/sentiment/).  It will be easy to edit this notebook in order to run all of the classification tasks referenced in the [XLNet paper](https://arxiv.org/abs/1906.08237). Whilst you cannot expect to obtain the state-of-the-art results in the paper on a GPU, this model will still score very highly. "
      ]
    },
    {
      "cell_type": "markdown",
      "metadata": {
        "id": "2mBzLdrdzodb"
      },
      "source": [
        "## Setup\n",
        "Install dependencies"
      ]
    },
    {
      "cell_type": "code",
      "metadata": {
        "colab": {
          "base_uri": "https://localhost:8080/"
        },
        "id": "hRHRPImGUth7",
        "outputId": "3a5fec12-b0db-4c69-d1aa-e84fd699469e"
      },
      "source": [
        "! pip install sentencepiece"
      ],
      "execution_count": 1,
      "outputs": [
        {
          "output_type": "stream",
          "text": [
            "Collecting sentencepiece\n",
            "\u001b[?25l  Downloading https://files.pythonhosted.org/packages/f5/99/e0808cb947ba10f575839c43e8fafc9cc44e4a7a2c8f79c60db48220a577/sentencepiece-0.1.95-cp37-cp37m-manylinux2014_x86_64.whl (1.2MB)\n",
            "\r\u001b[K     |▎                               | 10kB 23.4MB/s eta 0:00:01\r\u001b[K     |▌                               | 20kB 31.1MB/s eta 0:00:01\r\u001b[K     |▉                               | 30kB 22.3MB/s eta 0:00:01\r\u001b[K     |█                               | 40kB 25.9MB/s eta 0:00:01\r\u001b[K     |█▍                              | 51kB 24.7MB/s eta 0:00:01\r\u001b[K     |█▋                              | 61kB 27.3MB/s eta 0:00:01\r\u001b[K     |██                              | 71kB 18.4MB/s eta 0:00:01\r\u001b[K     |██▏                             | 81kB 19.3MB/s eta 0:00:01\r\u001b[K     |██▌                             | 92kB 18.0MB/s eta 0:00:01\r\u001b[K     |██▊                             | 102kB 18.0MB/s eta 0:00:01\r\u001b[K     |███                             | 112kB 18.0MB/s eta 0:00:01\r\u001b[K     |███▎                            | 122kB 18.0MB/s eta 0:00:01\r\u001b[K     |███▌                            | 133kB 18.0MB/s eta 0:00:01\r\u001b[K     |███▉                            | 143kB 18.0MB/s eta 0:00:01\r\u001b[K     |████                            | 153kB 18.0MB/s eta 0:00:01\r\u001b[K     |████▍                           | 163kB 18.0MB/s eta 0:00:01\r\u001b[K     |████▋                           | 174kB 18.0MB/s eta 0:00:01\r\u001b[K     |█████                           | 184kB 18.0MB/s eta 0:00:01\r\u001b[K     |█████▏                          | 194kB 18.0MB/s eta 0:00:01\r\u001b[K     |█████▌                          | 204kB 18.0MB/s eta 0:00:01\r\u001b[K     |█████▊                          | 215kB 18.0MB/s eta 0:00:01\r\u001b[K     |██████                          | 225kB 18.0MB/s eta 0:00:01\r\u001b[K     |██████▎                         | 235kB 18.0MB/s eta 0:00:01\r\u001b[K     |██████▌                         | 245kB 18.0MB/s eta 0:00:01\r\u001b[K     |██████▉                         | 256kB 18.0MB/s eta 0:00:01\r\u001b[K     |███████                         | 266kB 18.0MB/s eta 0:00:01\r\u001b[K     |███████▍                        | 276kB 18.0MB/s eta 0:00:01\r\u001b[K     |███████▋                        | 286kB 18.0MB/s eta 0:00:01\r\u001b[K     |████████                        | 296kB 18.0MB/s eta 0:00:01\r\u001b[K     |████████▏                       | 307kB 18.0MB/s eta 0:00:01\r\u001b[K     |████████▍                       | 317kB 18.0MB/s eta 0:00:01\r\u001b[K     |████████▊                       | 327kB 18.0MB/s eta 0:00:01\r\u001b[K     |█████████                       | 337kB 18.0MB/s eta 0:00:01\r\u001b[K     |█████████▎                      | 348kB 18.0MB/s eta 0:00:01\r\u001b[K     |█████████▌                      | 358kB 18.0MB/s eta 0:00:01\r\u001b[K     |█████████▉                      | 368kB 18.0MB/s eta 0:00:01\r\u001b[K     |██████████                      | 378kB 18.0MB/s eta 0:00:01\r\u001b[K     |██████████▍                     | 389kB 18.0MB/s eta 0:00:01\r\u001b[K     |██████████▋                     | 399kB 18.0MB/s eta 0:00:01\r\u001b[K     |███████████                     | 409kB 18.0MB/s eta 0:00:01\r\u001b[K     |███████████▏                    | 419kB 18.0MB/s eta 0:00:01\r\u001b[K     |███████████▍                    | 430kB 18.0MB/s eta 0:00:01\r\u001b[K     |███████████▊                    | 440kB 18.0MB/s eta 0:00:01\r\u001b[K     |████████████                    | 450kB 18.0MB/s eta 0:00:01\r\u001b[K     |████████████▎                   | 460kB 18.0MB/s eta 0:00:01\r\u001b[K     |████████████▌                   | 471kB 18.0MB/s eta 0:00:01\r\u001b[K     |████████████▉                   | 481kB 18.0MB/s eta 0:00:01\r\u001b[K     |█████████████                   | 491kB 18.0MB/s eta 0:00:01\r\u001b[K     |█████████████▍                  | 501kB 18.0MB/s eta 0:00:01\r\u001b[K     |█████████████▋                  | 512kB 18.0MB/s eta 0:00:01\r\u001b[K     |█████████████▉                  | 522kB 18.0MB/s eta 0:00:01\r\u001b[K     |██████████████▏                 | 532kB 18.0MB/s eta 0:00:01\r\u001b[K     |██████████████▍                 | 542kB 18.0MB/s eta 0:00:01\r\u001b[K     |██████████████▊                 | 552kB 18.0MB/s eta 0:00:01\r\u001b[K     |███████████████                 | 563kB 18.0MB/s eta 0:00:01\r\u001b[K     |███████████████▎                | 573kB 18.0MB/s eta 0:00:01\r\u001b[K     |███████████████▌                | 583kB 18.0MB/s eta 0:00:01\r\u001b[K     |███████████████▉                | 593kB 18.0MB/s eta 0:00:01\r\u001b[K     |████████████████                | 604kB 18.0MB/s eta 0:00:01\r\u001b[K     |████████████████▍               | 614kB 18.0MB/s eta 0:00:01\r\u001b[K     |████████████████▋               | 624kB 18.0MB/s eta 0:00:01\r\u001b[K     |████████████████▉               | 634kB 18.0MB/s eta 0:00:01\r\u001b[K     |█████████████████▏              | 645kB 18.0MB/s eta 0:00:01\r\u001b[K     |█████████████████▍              | 655kB 18.0MB/s eta 0:00:01\r\u001b[K     |█████████████████▊              | 665kB 18.0MB/s eta 0:00:01\r\u001b[K     |██████████████████              | 675kB 18.0MB/s eta 0:00:01\r\u001b[K     |██████████████████▎             | 686kB 18.0MB/s eta 0:00:01\r\u001b[K     |██████████████████▌             | 696kB 18.0MB/s eta 0:00:01\r\u001b[K     |██████████████████▉             | 706kB 18.0MB/s eta 0:00:01\r\u001b[K     |███████████████████             | 716kB 18.0MB/s eta 0:00:01\r\u001b[K     |███████████████████▎            | 727kB 18.0MB/s eta 0:00:01\r\u001b[K     |███████████████████▋            | 737kB 18.0MB/s eta 0:00:01\r\u001b[K     |███████████████████▉            | 747kB 18.0MB/s eta 0:00:01\r\u001b[K     |████████████████████▏           | 757kB 18.0MB/s eta 0:00:01\r\u001b[K     |████████████████████▍           | 768kB 18.0MB/s eta 0:00:01\r\u001b[K     |████████████████████▊           | 778kB 18.0MB/s eta 0:00:01\r\u001b[K     |█████████████████████           | 788kB 18.0MB/s eta 0:00:01\r\u001b[K     |█████████████████████▎          | 798kB 18.0MB/s eta 0:00:01\r\u001b[K     |█████████████████████▌          | 808kB 18.0MB/s eta 0:00:01\r\u001b[K     |█████████████████████▉          | 819kB 18.0MB/s eta 0:00:01\r\u001b[K     |██████████████████████          | 829kB 18.0MB/s eta 0:00:01\r\u001b[K     |██████████████████████▎         | 839kB 18.0MB/s eta 0:00:01\r\u001b[K     |██████████████████████▋         | 849kB 18.0MB/s eta 0:00:01\r\u001b[K     |██████████████████████▉         | 860kB 18.0MB/s eta 0:00:01\r\u001b[K     |███████████████████████▏        | 870kB 18.0MB/s eta 0:00:01\r\u001b[K     |███████████████████████▍        | 880kB 18.0MB/s eta 0:00:01\r\u001b[K     |███████████████████████▊        | 890kB 18.0MB/s eta 0:00:01\r\u001b[K     |████████████████████████        | 901kB 18.0MB/s eta 0:00:01\r\u001b[K     |████████████████████████▎       | 911kB 18.0MB/s eta 0:00:01\r\u001b[K     |████████████████████████▌       | 921kB 18.0MB/s eta 0:00:01\r\u001b[K     |████████████████████████▊       | 931kB 18.0MB/s eta 0:00:01\r\u001b[K     |█████████████████████████       | 942kB 18.0MB/s eta 0:00:01\r\u001b[K     |█████████████████████████▎      | 952kB 18.0MB/s eta 0:00:01\r\u001b[K     |█████████████████████████▋      | 962kB 18.0MB/s eta 0:00:01\r\u001b[K     |█████████████████████████▉      | 972kB 18.0MB/s eta 0:00:01\r\u001b[K     |██████████████████████████▏     | 983kB 18.0MB/s eta 0:00:01\r\u001b[K     |██████████████████████████▍     | 993kB 18.0MB/s eta 0:00:01\r\u001b[K     |██████████████████████████▊     | 1.0MB 18.0MB/s eta 0:00:01\r\u001b[K     |███████████████████████████     | 1.0MB 18.0MB/s eta 0:00:01\r\u001b[K     |███████████████████████████▎    | 1.0MB 18.0MB/s eta 0:00:01\r\u001b[K     |███████████████████████████▌    | 1.0MB 18.0MB/s eta 0:00:01\r\u001b[K     |███████████████████████████▊    | 1.0MB 18.0MB/s eta 0:00:01\r\u001b[K     |████████████████████████████    | 1.1MB 18.0MB/s eta 0:00:01\r\u001b[K     |████████████████████████████▎   | 1.1MB 18.0MB/s eta 0:00:01\r\u001b[K     |████████████████████████████▋   | 1.1MB 18.0MB/s eta 0:00:01\r\u001b[K     |████████████████████████████▉   | 1.1MB 18.0MB/s eta 0:00:01\r\u001b[K     |█████████████████████████████▏  | 1.1MB 18.0MB/s eta 0:00:01\r\u001b[K     |█████████████████████████████▍  | 1.1MB 18.0MB/s eta 0:00:01\r\u001b[K     |█████████████████████████████▊  | 1.1MB 18.0MB/s eta 0:00:01\r\u001b[K     |██████████████████████████████  | 1.1MB 18.0MB/s eta 0:00:01\r\u001b[K     |██████████████████████████████▏ | 1.1MB 18.0MB/s eta 0:00:01\r\u001b[K     |██████████████████████████████▌ | 1.1MB 18.0MB/s eta 0:00:01\r\u001b[K     |██████████████████████████████▊ | 1.2MB 18.0MB/s eta 0:00:01\r\u001b[K     |███████████████████████████████ | 1.2MB 18.0MB/s eta 0:00:01\r\u001b[K     |███████████████████████████████▎| 1.2MB 18.0MB/s eta 0:00:01\r\u001b[K     |███████████████████████████████▋| 1.2MB 18.0MB/s eta 0:00:01\r\u001b[K     |███████████████████████████████▉| 1.2MB 18.0MB/s eta 0:00:01\r\u001b[K     |████████████████████████████████| 1.2MB 18.0MB/s \n",
            "\u001b[?25hInstalling collected packages: sentencepiece\n",
            "Successfully installed sentencepiece-0.1.95\n"
          ],
          "name": "stdout"
        }
      ]
    },
    {
      "cell_type": "markdown",
      "metadata": {
        "id": "jy8gUsPuJNyw"
      },
      "source": [
        "Download the pretrained XLNet model and unzip"
      ]
    },
    {
      "cell_type": "code",
      "metadata": {
        "colab": {
          "base_uri": "https://localhost:8080/"
        },
        "id": "HfPDGsUtHKG0",
        "outputId": "7c545ed4-0337-4289-c8e9-5fd591f2d91f"
      },
      "source": [
        "# only needs to be done once\n",
        "! wget https://storage.googleapis.com/xlnet/released_models/cased_L-24_H-1024_A-16.zip\n",
        "! unzip cased_L-24_H-1024_A-16.zip "
      ],
      "execution_count": 2,
      "outputs": [
        {
          "output_type": "stream",
          "text": [
            "--2021-05-04 19:58:43--  https://storage.googleapis.com/xlnet/released_models/cased_L-24_H-1024_A-16.zip\n",
            "Resolving storage.googleapis.com (storage.googleapis.com)... 172.253.63.128, 142.250.31.128, 172.217.15.80, ...\n",
            "Connecting to storage.googleapis.com (storage.googleapis.com)|172.253.63.128|:443... connected.\n",
            "HTTP request sent, awaiting response... 200 OK\n",
            "Length: 1338042341 (1.2G) [application/zip]\n",
            "Saving to: ‘cased_L-24_H-1024_A-16.zip’\n",
            "\n",
            "cased_L-24_H-1024_A 100%[===================>]   1.25G   108MB/s    in 12s     \n",
            "\n",
            "2021-05-04 19:58:54 (111 MB/s) - ‘cased_L-24_H-1024_A-16.zip’ saved [1338042341/1338042341]\n",
            "\n",
            "Archive:  cased_L-24_H-1024_A-16.zip\n",
            "   creating: xlnet_cased_L-24_H-1024_A-16/\n",
            "  inflating: xlnet_cased_L-24_H-1024_A-16/xlnet_model.ckpt.index  \n",
            "  inflating: xlnet_cased_L-24_H-1024_A-16/xlnet_model.ckpt.data-00000-of-00001  \n",
            "  inflating: xlnet_cased_L-24_H-1024_A-16/spiece.model  \n",
            "  inflating: xlnet_cased_L-24_H-1024_A-16/xlnet_model.ckpt.meta  \n",
            "  inflating: xlnet_cased_L-24_H-1024_A-16/xlnet_config.json  \n"
          ],
          "name": "stdout"
        }
      ]
    },
    {
      "cell_type": "markdown",
      "metadata": {
        "id": "yGY_ggUUMrwU"
      },
      "source": [
        "Git clone XLNet repo for access to run_classifier and the rest of the xlnet module"
      ]
    },
    {
      "cell_type": "code",
      "metadata": {
        "colab": {
          "base_uri": "https://localhost:8080/"
        },
        "id": "-r190eYVMpiG",
        "outputId": "068f02f2-f199-439f-d604-949409042b25"
      },
      "source": [
        "! git clone https://github.com/agrudkow/xlnet.git"
      ],
      "execution_count": 3,
      "outputs": [
        {
          "output_type": "stream",
          "text": [
            "Cloning into 'xlnet'...\n",
            "remote: Enumerating objects: 190, done.\u001b[K\n",
            "remote: Counting objects: 100% (68/68), done.\u001b[K\n",
            "remote: Compressing objects: 100% (49/49), done.\u001b[K\n",
            "remote: Total 190 (delta 23), reused 60 (delta 15), pack-reused 122\u001b[K\n",
            "Receiving objects: 100% (190/190), 3.57 MiB | 29.93 MiB/s, done.\n",
            "Resolving deltas: 100% (82/82), done.\n"
          ],
          "name": "stdout"
        }
      ]
    },
    {
      "cell_type": "markdown",
      "metadata": {
        "id": "EfqF06sE9LrU"
      },
      "source": [
        "Downgrade tensorflow to v1"
      ]
    },
    {
      "cell_type": "code",
      "metadata": {
        "colab": {
          "base_uri": "https://localhost:8080/"
        },
        "id": "qdHJtPOV9UIJ",
        "outputId": "5fb09655-bf11-4f0c-fdd2-c325141cb27a"
      },
      "source": [
        "%tensorflow_version 1.x"
      ],
      "execution_count": 4,
      "outputs": [
        {
          "output_type": "stream",
          "text": [
            "TensorFlow 1.x selected.\n"
          ],
          "name": "stdout"
        }
      ]
    },
    {
      "cell_type": "markdown",
      "metadata": {
        "id": "jDP-IaVuPC-z"
      },
      "source": [
        "## Define Variables\n",
        "Define all the dirs: data, xlnet scripts & pretrained model. \n",
        "If you would like to save models then you can authenticate a GCP account and use that for the OUTPUT_DIR & CHECKPOINT_DIR - you will need a large amount storage to fix these models. \n",
        "\n",
        "Alternatively it is easy to integrate a google drive account, checkout this guide for [I/O in colab](https://colab.research.google.com/notebooks/io.ipynb) but rememeber these will take up a large amount of storage. \n"
      ]
    },
    {
      "cell_type": "code",
      "metadata": {
        "id": "y7N_xVwavQlV"
      },
      "source": [
        "SCRIPTS_DIR = 'xlnet' #@param {type:\"string\"}\n",
        "DATA_DIR = 'xlnet/ists/images' #@param {type:\"string\"}\n",
        "OUTPUT_DIR = 'proc_data/ists' #@param {type:\"string\"}\n",
        "PRETRAINED_MODEL_DIR = 'xlnet_cased_L-24_H-1024_A-16' #@param {type:\"string\"}\n",
        "CHECKPOINT_DIR = 'exp/ists' #@param {type:\"string\"}"
      ],
      "execution_count": 13,
      "outputs": []
    },
    {
      "cell_type": "markdown",
      "metadata": {
        "id": "jR6euqwL1KBV"
      },
      "source": [
        "## Run Model\n",
        "This will set off the fine tuning of XLNet. There are a few things to note here:\n",
        "\n",
        "\n",
        "1.   This script will train and evaluate the model\n",
        "2.   This will store the results locally on colab and will be lost when you are disconnected from the runtime\n",
        "3.   This uses the large version of the model (base not released presently)\n",
        "4.   We are using a max seq length of 128 with a batch size of 8 please refer to the [README](https://github.com/zihangdai/xlnet#memory-issue-during-finetuning) for why this is.\n",
        "5. This will take approx 4hrs to run on GPU.\n",
        "\n"
      ]
    },
    {
      "cell_type": "code",
      "metadata": {
        "id": "CEMuT6LU0avg"
      },
      "source": [
        "train_command = \"CUDA_VISIBLE_DEVICES=0 python xlnet/run_classifier.py \\\n",
        "  --do_train=True \\\n",
        "  --do_eval=True \\\n",
        "  --eval_all_ckpt=True \\\n",
        "  --eval_split=test \\\n",
        "  --task_name=ists \\\n",
        "  --data_dir=\"+DATA_DIR+\" \\\n",
        "  --output_dir=\"+OUTPUT_DIR+\" \\\n",
        "  --model_dir=\"+CHECKPOINT_DIR+\" \\\n",
        "  --uncased=False \\\n",
        "  --spiece_model_file=\"+PRETRAINED_MODEL_DIR+\"/spiece.model \\\n",
        "  --model_config_path=\"+PRETRAINED_MODEL_DIR+\"/xlnet_config.json \\\n",
        "  --init_checkpoint=\"+PRETRAINED_MODEL_DIR+\"/xlnet_model.ckpt \\\n",
        "  --max_seq_length=128 \\\n",
        "  --train_batch_size=8 \\\n",
        "  --eval_batch_size=8 \\\n",
        "  --num_hosts=1 \\\n",
        "  --num_core_per_host=1 \\\n",
        "  --learning_rate=2e-5 \\\n",
        "  --train_steps=200 \\\n",
        "  --warmup_steps=500 \\\n",
        "  --save_steps=100 \\\n",
        "  --iterations=5\"\n",
        "\n",
        "! {train_command}\n"
      ],
      "execution_count": null,
      "outputs": []
    },
    {
      "cell_type": "markdown",
      "metadata": {
        "id": "VvhqD-sO0Kyh"
      },
      "source": [
        "## Running & Results\n",
        "These are the results that I got from running this experiment\n",
        "### Params\n",
        "*    --max_seq_length=128 \\\n",
        "*    --train_batch_size= 8 \n",
        "\n",
        "### Times\n",
        "*   Training: 1hr 11mins\n",
        "*   Evaluation: 2.5hr\n",
        "\n",
        "### Results\n",
        "*  Most accurate model on final step\n",
        "*  Accuracy: 0.92416, eval_loss: 0.31708\n"
      ]
    },
    {
      "cell_type": "markdown",
      "metadata": {
        "id": "XUW2avFM_fi_"
      },
      "source": [
        "### Model\n",
        "\n",
        "*   The trained model checkpoints can be found in 'exp/imdb'\n",
        "\n"
      ]
    }
  ]
}